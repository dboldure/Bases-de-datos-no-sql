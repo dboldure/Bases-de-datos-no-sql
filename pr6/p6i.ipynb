{
 "cells": [
  {
   "cell_type": "markdown",
   "metadata": {},
   "source": [
    "Nombre 1:\n",
    "\n",
    "Nombre 2:\n",
    "\n",
    "Nombre 3:"
   ]
  },
  {
   "cell_type": "code",
   "execution_count": null,
   "metadata": {},
   "outputs": [],
   "source": [
    "Nº de grupo:"
   ]
  },
  {
   "cell_type": "markdown",
   "metadata": {},
   "source": [
    "![](https://informatica.ucm.es/themes/ucm16/media/img/logo.png)\n",
    "\n",
    "# Bases de datos NoSQL\n",
    "\n",
    "\n",
    "#### Práctica 5"
   ]
  },
  {
   "cell_type": "markdown",
   "metadata": {},
   "source": [
    "El siguiente código asegura que la biblioteca Redis está en el sistema. Si no está la instalará, pero OJO: puede que haya que reiniciar el notebook (Kernel + Restart)"
   ]
  },
  {
   "cell_type": "code",
   "execution_count": null,
   "metadata": {},
   "outputs": [],
   "source": [
    "import sys\n",
    "# redis\n",
    "try:\n",
    "    import redis\n",
    "    print(\"Redis está en el sistema!\")\n",
    "except ImportError as e:\n",
    "    !{sys.executable} -m pip install --upgrade --user redis"
   ]
  },
  {
   "cell_type": "markdown",
   "metadata": {},
   "source": [
    "Modificar la variable `redisconfPath` con el path al fichero redisconf.py, que hemos debido modificar con nuestras claves. Si todo va bien mostrará True. Si no, avisar al profesor"
   ]
  },
  {
   "cell_type": "code",
   "execution_count": null,
   "metadata": {},
   "outputs": [],
   "source": [
    "redisconfPath = \"c:/hlocal/\"\n",
    "\n",
    "#redisconfPath = \"c:/hlocal/\"\n",
    "\n",
    "import sys\n",
    "sys.path.insert(0, redisconfPath)\n",
    "import redisconf\n",
    "\n",
    "\n",
    "import  redis\n",
    "\n",
    "\n",
    "\n",
    "pool = redis.ConnectionPool(host=redisconf.CONEXION, password=redisconf.PASSWD, \n",
    "                port=redisconf.PUERTO, decode_responses=True, db=0)\n",
    "r = redis.Redis(connection_pool=pool)\n",
    "r.ping()\n"
   ]
  },
  {
   "cell_type": "markdown",
   "metadata": {},
   "source": [
    "# Preparación\n",
    "\n",
    "Para hacer la práctica debemos tener ejecutándose en otra pestaña el notebook `sensor.ipynb`. Este notebook simula un sistema de varios sensores (no nos importa cuántos) en el que que,  aproximadamente cada segundo (esto tampoco tenemos que tenerlo en cuenta), se toma un valor de uno de los sensores y se emite mediante 3 claves Redis:\n",
    "\n",
    "* sensor: el número de sensor seleccionado\n",
    "* time: un valor que se va incrementando y representa el tiempo\n",
    "* value: el valor emitido por el sensor\n",
    "\n",
    "En ocasiones, para algunos valores de  `sensor`y un `time` puede que la clave `value` no exista; representa un error de lectura.\n",
    "\n",
    "Nótese que lo ideal sería que cada segundo se tomaran los valores de todos los sensores, pero aquí, por simplicidad, cada segundo se toman los datos de uno al azar. Lo único que podemos asegurar es que el `time` siempre se irá incrementando (no sabemos en cuanto) y nunca se repite, que `sensor`tendrá el número de sensor, y que `value`, si existe, es la medida tomada de ese sensor en ese tiempo."
   ]
  },
  {
   "cell_type": "markdown",
   "metadata": {},
   "source": [
    "### Ejercicio 1 [5 puntos]\n",
    "\n",
    "Queremos hacer la media de 5 valores consecutivos emitidos por el notebook sensor. Cosas a tener en cuenta:\n",
    "\n",
    "* Serán 5 valores consecutivos desde el primero disponible cuando ejecutemos este fragmento de código; no importa los que se hayan emitido antes\n",
    "\n",
    "* Ir mostrando por pantalla los valores leídos de redis para facilitar la depuración (y la corrección)\n",
    "\n",
    "* Podemos asumir que este fragmento de código es más rápido que el del sensor, que emite cada aprox. un segundo. Es decir, no tenemos que preocuparnos ni comprobar por si hemos perdido ningún valor. Sin embargo, sí debemos comprobar por ejemplo si `value` existe o no (si no existe toma el valor None). Si no existe lógicamente no se contará como uno de los 5 valores consecutivos, se ignorará.\n",
    "\n",
    "* Somos conscientes de que al hacer la media de 5 valores consecutivos estaremos mezclando valores de sensores distintos; es una primera aproximación que mejoraremos en el siguiente ejercicio. En este nos da igual de qué sensor proviene el valor, solo nos importan los valores 'time' y 'valor'.\n",
    "\n",
    "* El valor tendrá que ser convertido a int, en el modo de uso de redis que tenemos aunque sea un int se recoge como un string."
   ]
  },
  {
   "cell_type": "code",
   "execution_count": null,
   "metadata": {},
   "outputs": [],
   "source": [
    "r.flushall()\n",
    "cuantos = 5\n",
    "\n"
   ]
  },
  {
   "cell_type": "markdown",
   "metadata": {},
   "source": [
    "### Ejercicio 2 [5 puntos]\n",
    "\n",
    "\n",
    "El código anterior mezcla valores de diferentes sensores; ahora queremos obtener los 5 primeros valores consecutivos que encontremos para cada sensor (no hace falta la media, solo queremos recopilarlos). \n",
    "\n",
    "La idea es análoga al código anterior pero usando listas y conjuntos para recopilar la información. En particular:\n",
    "\n",
    "* llevaremos un conjunto de redis con nombre `sensores` con los nombres de sensores que ya han aparecido\n",
    "* Además, habrá una lista por cada sensor con sus `cuantos` valores. La lista tendrá como clave el nombre del sensor.\n",
    "\n",
    "Cada vez que aparezca un dato de un sensor (que no sea un valor None):\n",
    "\n",
    "* Añadimos el nombre al conjunto `sensores`\n",
    "* Comprobamos la longitud de la lista cuyo nombre es el nombre del sensor (método `llen`). Si es menor que `cuantos`, añadimos el nuevo valor. Si ya tiene `cuantos`, lo ignoramos.\n",
    "* Finalmente, comprobamos si a) `sensores` tiene un cardinal de al menos `num_sensores`, y b) si la longitud de las listas de todos los sensores acumulados en `sensores` es `cuantos`. Si se cumplen ambas condiciones hemos acabado; si no habrá que seguir iterando.\n",
    "\n",
    "* Al final, mostraremos los valores recopilados de cada lista cuyo nombre aparece en `sensores`\n",
    "\n",
    "Notas: \n",
    "\n",
    "* En cada lista se van introduciendo valores por la izquierda\n",
    "* No hace falta crear el conjunto vacío, ni la lista vacía; ambas se crean en redis la primera vez que se utilizan.\n",
    "* En este caso el número de sensor no conviene convertirlo a entero, así se puede usar directamente como clave para la lista, que tiene que ser un string"
   ]
  },
  {
   "cell_type": "code",
   "execution_count": null,
   "metadata": {},
   "outputs": [],
   "source": [
    "cuantos = 5 # valores a guardar\n",
    "num_sensores  = 3 # número de sensores\n",
    "r.flushall()\n"
   ]
  },
  {
   "cell_type": "markdown",
   "metadata": {},
   "source": [
    "No olvidar subir el notebook al campus con los nombres de los componentes del grupo (arriba)"
   ]
  },
  {
   "cell_type": "code",
   "execution_count": null,
   "metadata": {},
   "outputs": [],
   "source": []
  }
 ],
 "metadata": {
  "kernelspec": {
   "display_name": "Python 3",
   "language": "python",
   "name": "python3"
  },
  "language_info": {
   "codemirror_mode": {
    "name": "ipython",
    "version": 3
   },
   "file_extension": ".py",
   "mimetype": "text/x-python",
   "name": "python",
   "nbconvert_exporter": "python",
   "pygments_lexer": "ipython3",
   "version": "3.8.3"
  }
 },
 "nbformat": 4,
 "nbformat_minor": 4
}
